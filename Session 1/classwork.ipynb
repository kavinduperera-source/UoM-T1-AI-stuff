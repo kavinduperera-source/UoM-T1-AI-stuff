{
 "cells": [
  {
   "cell_type": "code",
   "execution_count": 3,
   "id": "c713831e",
   "metadata": {},
   "outputs": [
    {
     "name": "stdout",
     "output_type": "stream",
     "text": [
      "hello 1\n"
     ]
    }
   ],
   "source": [
    "def hello(name :str):\n",
    "    return f\"hello {name}\"\n",
    "\n",
    "print(hello(1))\n"
   ]
  },
  {
   "cell_type": "code",
   "execution_count": 4,
   "id": "1d1c4e8a",
   "metadata": {},
   "outputs": [
    {
     "name": "stdout",
     "output_type": "stream",
     "text": [
      "total = 499999500000\n",
      "Calculate sum: 0.0279 seconds\n"
     ]
    }
   ],
   "source": [
    "from contextlib import contextmanager\n",
    "import time\n",
    "@contextmanager\n",
    "def timer(label: str):\n",
    "    start = time.time()\n",
    "    try:\n",
    "        yield\n",
    "    finally:\n",
    "        end = time.time()\n",
    "        print(f\"{label}: {end - start:.4f} seconds\")\n",
    "\n",
    "with timer(\"Calculate sum\"):\n",
    "    total = sum(range(1,1000000))\n",
    "    print(f\"total = {total}\")"
   ]
  },
  {
   "cell_type": "code",
   "execution_count": 5,
   "id": "e14399b9",
   "metadata": {},
   "outputs": [],
   "source": [
    "with open(\"example.txt\",\"w\")as file:\n",
    "    file.write(\"This is an example text in file\\n\")"
   ]
  },
  {
   "cell_type": "markdown",
   "id": "86454936",
   "metadata": {},
   "source": [
    ".__iter__ can be used to create an iterable"
   ]
  },
  {
   "cell_type": "code",
   "execution_count": 8,
   "id": "6b36a7d4",
   "metadata": {},
   "outputs": [
    {
     "name": "stdout",
     "output_type": "stream",
     "text": [
      "The median is: 6\n"
     ]
    }
   ],
   "source": [
    "import statistics\n",
    "\n",
    "data = [1, 3, 3, 6, 7, 8, 9]\n",
    "median_value = statistics.median(data)\n",
    "print(f\"The median is: {median_value}\")"
   ]
  },
  {
   "cell_type": "code",
   "execution_count": 14,
   "id": "aabf2e6e",
   "metadata": {},
   "outputs": [
    {
     "name": "stdout",
     "output_type": "stream",
     "text": [
      "After adding 1 the median is 1\n",
      "After adding 3 the median is 2.0\n",
      "After adding 3 the median is 3\n",
      "After adding 6 the median is 3.0\n",
      "After adding 7 the median is 3\n",
      "After adding 8 the median is 4.5\n",
      "After adding 9 the median is 6\n"
     ]
    }
   ],
   "source": [
    "import statistics\n",
    "data = [1,3,3,6,7,8,9]\n",
    "\n",
    "for x in range(len(data)):\n",
    "    current_data = data[:x+1]\n",
    "    current_median = statistics.median(current_data)\n",
    "    print(f\"After adding {data[x]} the median is {current_median}\")"
   ]
  },
  {
   "cell_type": "code",
   "execution_count": 16,
   "id": "8483292e",
   "metadata": {},
   "outputs": [
    {
     "name": "stdout",
     "output_type": "stream",
     "text": [
      "The median is: 6\n",
      "Moving medians:\n",
      "1\n",
      "2.0\n",
      "3\n",
      "3.0\n",
      "3\n",
      "4.5\n",
      "6\n"
     ]
    }
   ],
   "source": [
    "import statistics\n",
    "def moving_median(data):\n",
    "    temp_data = []\n",
    "    for number in data:\n",
    "        temp_data.append(number)\n",
    "        temp_data.sort()\n",
    "        yield statistics.median(temp_data)\n",
    "\n",
    "data = [1, 3, 3, 6, 7, 8, 9]\n",
    "median_value = statistics.median(data)\n",
    "print(f\"The median is: {median_value}\")\n",
    "moving_median_value = moving_median(data)\n",
    "print(\"Moving medians:\")\n",
    "for median in moving_median_value:\n",
    "    print(median)"
   ]
  },
  {
   "cell_type": "code",
   "execution_count": 17,
   "id": "88807b65",
   "metadata": {},
   "outputs": [],
   "source": [
    "__all__ = [\"config\", \"context\", \"decorators\", \"generators\", \"features\", \"io\", \"vectorize\"]"
   ]
  }
 ],
 "metadata": {
  "kernelspec": {
   "display_name": ".venv (3.11.9)",
   "language": "python",
   "name": "python3"
  },
  "language_info": {
   "codemirror_mode": {
    "name": "ipython",
    "version": 3
   },
   "file_extension": ".py",
   "mimetype": "text/x-python",
   "name": "python",
   "nbconvert_exporter": "python",
   "pygments_lexer": "ipython3",
   "version": "3.11.9"
  }
 },
 "nbformat": 4,
 "nbformat_minor": 5
}
